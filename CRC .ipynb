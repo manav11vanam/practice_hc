{
 "cells": [
  {
   "cell_type": "code",
   "execution_count": 52,
   "metadata": {},
   "outputs": [
    {
     "name": "stdout",
     "output_type": "stream",
     "text": [
      "enter the number of bits in the message: 4\n",
      " 1\n",
      " 0\n",
      " 0\n",
      " 1\n",
      "enter the number of generator bits: 4\n",
      " 1\n",
      " 0\n",
      " 1\n",
      " 1\n"
     ]
    }
   ],
   "source": [
    "n = int(input(\"enter the number of bits in the message: \"))\n",
    "mes = []\n",
    "for i in range(n):\n",
    "    mes = mes + [str(input(' '))] \n",
    "    \n",
    "nG = int(input('enter the number of generator bits: '))\n",
    "gen = []\n",
    "for i in range(nG):\n",
    "    gen = gen + [str(input(' '))]\n",
    "\n",
    "count = len(mes) - 1\n",
    "\n",
    "s = '0' * count\n",
    "for i in s:\n",
    "    mes.append(int(i))\n",
    "\n",
    "def numconverter(l):\n",
    "    st = ''\n",
    "    for i in l:\n",
    "        st = st + str(i)\n",
    "    return int(st)   \n",
    "m = numconverter(mes)\n",
    "g = numconverter(gen)\n"
   ]
  },
  {
   "cell_type": "code",
   "execution_count": 54,
   "metadata": {},
   "outputs": [
    {
     "ename": "TypeError",
     "evalue": "can only concatenate str (not \"int\") to str",
     "output_type": "error",
     "traceback": [
      "\u001b[1;31m---------------------------------------------------------------------------\u001b[0m",
      "\u001b[1;31mTypeError\u001b[0m                                 Traceback (most recent call last)",
      "\u001b[1;32m<ipython-input-54-f4b9084d4201>\u001b[0m in \u001b[0;36m<module>\u001b[1;34m\u001b[0m\n\u001b[0;32m     42\u001b[0m     \u001b[1;32mreturn\u001b[0m \u001b[0mcheckword\u001b[0m\u001b[1;33m\u001b[0m\u001b[1;33m\u001b[0m\u001b[0m\n\u001b[0;32m     43\u001b[0m \u001b[1;33m\u001b[0m\u001b[0m\n\u001b[1;32m---> 44\u001b[1;33m \u001b[0mprint\u001b[0m\u001b[1;33m(\u001b[0m\u001b[0mmod2div\u001b[0m\u001b[1;33m(\u001b[0m\u001b[0mmes\u001b[0m\u001b[1;33m,\u001b[0m\u001b[0mgen\u001b[0m\u001b[1;33m)\u001b[0m\u001b[1;33m)\u001b[0m\u001b[1;33m\u001b[0m\u001b[1;33m\u001b[0m\u001b[0m\n\u001b[0m",
      "\u001b[1;32m<ipython-input-54-f4b9084d4201>\u001b[0m in \u001b[0;36mmod2div\u001b[1;34m(divident, divisor)\u001b[0m\n\u001b[0;32m     26\u001b[0m \u001b[1;33m\u001b[0m\u001b[0m\n\u001b[0;32m     27\u001b[0m \u001b[1;33m\u001b[0m\u001b[0m\n\u001b[1;32m---> 28\u001b[1;33m             \u001b[0mtmp\u001b[0m \u001b[1;33m=\u001b[0m \u001b[0mxor\u001b[0m\u001b[1;33m(\u001b[0m\u001b[0mdivisor\u001b[0m\u001b[1;33m,\u001b[0m \u001b[0mtmp\u001b[0m\u001b[1;33m)\u001b[0m \u001b[1;33m+\u001b[0m \u001b[0mdivident\u001b[0m\u001b[1;33m[\u001b[0m\u001b[0mpick\u001b[0m\u001b[1;33m]\u001b[0m\u001b[1;33m\u001b[0m\u001b[1;33m\u001b[0m\u001b[0m\n\u001b[0m\u001b[0;32m     29\u001b[0m \u001b[1;33m\u001b[0m\u001b[0m\n\u001b[0;32m     30\u001b[0m         \u001b[1;32melse\u001b[0m\u001b[1;33m:\u001b[0m\u001b[1;33m\u001b[0m\u001b[1;33m\u001b[0m\u001b[0m\n",
      "\u001b[1;31mTypeError\u001b[0m: can only concatenate str (not \"int\") to str"
     ]
    }
   ],
   "source": [
    "def xor(a, b):\n",
    "    result = []\n",
    "\n",
    "\n",
    "    for i in range(1, len(b)):\n",
    "        if a[i] == b[i]:\n",
    "            result.append('0')\n",
    "        else:\n",
    "            result.append('1')\n",
    "\n",
    "    return ''.join(result)\n",
    "\n",
    "\n",
    "\n",
    "def mod2div(divident, divisor):\n",
    "\n",
    "\n",
    "    pick = len(divisor)\n",
    "\n",
    "\n",
    "    tmp = divident[0 : pick]\n",
    "\n",
    "    while pick < len(divident):\n",
    "\n",
    "        if tmp[0] == '1':\n",
    "\n",
    "            \n",
    "            tmp = xor(divisor, tmp) + divident[pick]\n",
    "\n",
    "        else: \n",
    "            tmp = xor('0'*pick, tmp) + divident[pick]\n",
    "\n",
    "        pick += 1\n",
    "\n",
    "\n",
    "    if tmp[0] == '1':\n",
    "        tmp = xor(divisor, tmp)\n",
    "    else:\n",
    "        tmp = xor('0'*pick, tmp)\n",
    "\n",
    "    checkword = tmp\n",
    "    return checkword\n",
    "\n",
    "print(mod2div(mes,gen))"
   ]
  },
  {
   "cell_type": "code",
   "execution_count": null,
   "metadata": {},
   "outputs": [],
   "source": []
  },
  {
   "cell_type": "code",
   "execution_count": null,
   "metadata": {},
   "outputs": [],
   "source": []
  },
  {
   "cell_type": "code",
   "execution_count": null,
   "metadata": {},
   "outputs": [],
   "source": []
  },
  {
   "cell_type": "code",
   "execution_count": null,
   "metadata": {},
   "outputs": [],
   "source": []
  }
 ],
 "metadata": {
  "kernelspec": {
   "display_name": "Python 3",
   "language": "python",
   "name": "python3"
  },
  "language_info": {
   "codemirror_mode": {
    "name": "ipython",
    "version": 3
   },
   "file_extension": ".py",
   "mimetype": "text/x-python",
   "name": "python",
   "nbconvert_exporter": "python",
   "pygments_lexer": "ipython3",
   "version": "3.7.9"
  }
 },
 "nbformat": 4,
 "nbformat_minor": 4
}
